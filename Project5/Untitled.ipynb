{
 "cells": [
  {
   "cell_type": "markdown",
   "id": "f7ca49e4",
   "metadata": {},
   "source": [
    "# London Housing Dataset"
   ]
  },
  {
   "cell_type": "markdown",
   "id": "efe23d4d",
   "metadata": {},
   "source": [
    "Dataset correspondiente al mercado de casas en londres. Contiene la siguiente data relevante:\n",
    "-Precio promedio mensual\n",
    "-Numero de casas vendidas anual\n",
    "-Crimenes mensuales cometidos\n",
    "\n",
    "Informacion recopilada desde 1995 a 2019 por cada area.\n",
    "\n"
   ]
  },
  {
   "cell_type": "code",
   "execution_count": 25,
   "id": "684a405b",
   "metadata": {},
   "outputs": [],
   "source": [
    "import datetime as dt\n"
   ]
  },
  {
   "cell_type": "code",
   "execution_count": 2,
   "id": "edbf73a2",
   "metadata": {},
   "outputs": [],
   "source": [
    "import pandas as pd"
   ]
  },
  {
   "cell_type": "code",
   "execution_count": 3,
   "id": "bd182082",
   "metadata": {},
   "outputs": [],
   "source": [
    "df=pd.read_csv('LondonHousingData.csv')"
   ]
  },
  {
   "cell_type": "code",
   "execution_count": 6,
   "id": "abcc956a",
   "metadata": {},
   "outputs": [
    {
     "name": "stdout",
     "output_type": "stream",
     "text": [
      "<class 'pandas.core.frame.DataFrame'>\n",
      "RangeIndex: 13549 entries, 0 to 13548\n",
      "Data columns (total 6 columns):\n",
      " #   Column         Non-Null Count  Dtype  \n",
      "---  ------         --------------  -----  \n",
      " 0   date           13549 non-null  object \n",
      " 1   area           13549 non-null  object \n",
      " 2   average_price  13549 non-null  int64  \n",
      " 3   code           13549 non-null  object \n",
      " 4   houses_sold    13455 non-null  float64\n",
      " 5   no_of_crimes   7439 non-null   float64\n",
      "dtypes: float64(2), int64(1), object(3)\n",
      "memory usage: 635.2+ KB\n"
     ]
    }
   ],
   "source": [
    "df.info()"
   ]
  },
  {
   "cell_type": "code",
   "execution_count": 8,
   "id": "d4a7c555",
   "metadata": {},
   "outputs": [
    {
     "data": {
      "text/plain": [
       "date                0\n",
       "area                0\n",
       "average_price       0\n",
       "code                0\n",
       "houses_sold        94\n",
       "no_of_crimes     6110\n",
       "dtype: int64"
      ]
     },
     "execution_count": 8,
     "metadata": {},
     "output_type": "execute_result"
    }
   ],
   "source": [
    "df.isnull().sum()"
   ]
  },
  {
   "cell_type": "code",
   "execution_count": 9,
   "id": "a903f4bd",
   "metadata": {},
   "outputs": [],
   "source": [
    "import seaborn as sns\n",
    "import matplotlib.pyplot as plt"
   ]
  },
  {
   "cell_type": "code",
   "execution_count": 10,
   "id": "145746ae",
   "metadata": {},
   "outputs": [],
   "source": [
    "sns.set()"
   ]
  },
  {
   "cell_type": "code",
   "execution_count": 13,
   "id": "46524f62",
   "metadata": {},
   "outputs": [
    {
     "data": {
      "image/png": "[encoded data removed]",
      "text/plain": [
       "<Figure size 1000x400 with 1 Axes>"
      ]
     },
     "metadata": {},
     "output_type": "display_data"
    }
   ],
   "source": [
    "plt.figure(figsize=(10,4))\n",
    "plt.bar(df.columns,df.isnull().sum(),color='orange')\n",
    "plt.xlabel(\"Columns\")\n",
    "plt.ylabel(\"Count of Null\")\n",
    "plt.title(\"Grafico\")\n",
    "plt.show()"
   ]
  },
  {
   "cell_type": "markdown",
   "id": "1c7795b1",
   "metadata": {},
   "source": [
    "### Convertimos la columna Date en tipo Data-time format"
   ]
  },
  {
   "cell_type": "code",
   "execution_count": 20,
   "id": "31a4945c",
   "metadata": {},
   "outputs": [
    {
     "data": {
      "text/plain": [
       "date             datetime64[ns]\n",
       "area                     object\n",
       "average_price             int64\n",
       "code                     object\n",
       "houses_sold             float64\n",
       "no_of_crimes            float64\n",
       "dtype: object"
      ]
     },
     "execution_count": 20,
     "metadata": {},
     "output_type": "execute_result"
    }
   ],
   "source": [
    "df.dtypes"
   ]
  },
  {
   "cell_type": "code",
   "execution_count": 16,
   "id": "2a648f99",
   "metadata": {},
   "outputs": [],
   "source": [
    "df['date']=pd.to_datetime(df['date'])"
   ]
  },
  {
   "cell_type": "code",
   "execution_count": 17,
   "id": "c07a9fc8",
   "metadata": {},
   "outputs": [
    {
     "name": "stdout",
     "output_type": "stream",
     "text": [
      "<class 'pandas.core.series.Series'>\n",
      "RangeIndex: 13549 entries, 0 to 13548\n",
      "Series name: date\n",
      "Non-Null Count  Dtype         \n",
      "--------------  -----         \n",
      "13549 non-null  datetime64[ns]\n",
      "dtypes: datetime64[ns](1)\n",
      "memory usage: 106.0 KB\n"
     ]
    }
   ],
   "source": [
    "df['date'].info()"
   ]
  },
  {
   "cell_type": "code",
   "execution_count": 90,
   "id": "67a74880",
   "metadata": {},
   "outputs": [
    {
     "data": {
      "text/html": [
       "<div>\n",
       "<style scoped>\n",
       "    .dataframe tbody tr th:only-of-type {\n",
       "        vertical-align: middle;\n",
       "    }\n",
       "\n",
       "    .dataframe tbody tr th {\n",
       "        vertical-align: top;\n",
       "    }\n",
       "\n",
       "    .dataframe thead th {\n",
       "        text-align: right;\n",
       "    }\n",
       "</style>\n",
       "<table border=\"1\" class=\"dataframe\">\n",
       "  <thead>\n",
       "    <tr style=\"text-align: right;\">\n",
       "      <th></th>\n",
       "      <th>date</th>\n",
       "      <th>area</th>\n",
       "      <th>average_price</th>\n",
       "      <th>code</th>\n",
       "      <th>houses_sold</th>\n",
       "      <th>no_of_crimes</th>\n",
       "      <th>Year</th>\n",
       "    </tr>\n",
       "  </thead>\n",
       "  <tbody>\n",
       "    <tr>\n",
       "      <th>13449</th>\n",
       "      <td>2011-10-01</td>\n",
       "      <td>england</td>\n",
       "      <td>175171</td>\n",
       "      <td>E92000001</td>\n",
       "      <td>55412.0</td>\n",
       "      <td>NaN</td>\n",
       "      <td>2011</td>\n",
       "    </tr>\n",
       "    <tr>\n",
       "      <th>13450</th>\n",
       "      <td>2011-11-01</td>\n",
       "      <td>england</td>\n",
       "      <td>175200</td>\n",
       "      <td>E92000001</td>\n",
       "      <td>57594.0</td>\n",
       "      <td>NaN</td>\n",
       "      <td>2011</td>\n",
       "    </tr>\n",
       "    <tr>\n",
       "      <th>13451</th>\n",
       "      <td>2011-12-01</td>\n",
       "      <td>england</td>\n",
       "      <td>174812</td>\n",
       "      <td>E92000001</td>\n",
       "      <td>60991.0</td>\n",
       "      <td>NaN</td>\n",
       "      <td>2011</td>\n",
       "    </tr>\n",
       "    <tr>\n",
       "      <th>13452</th>\n",
       "      <td>2012-01-01</td>\n",
       "      <td>england</td>\n",
       "      <td>174179</td>\n",
       "      <td>E92000001</td>\n",
       "      <td>42125.0</td>\n",
       "      <td>NaN</td>\n",
       "      <td>2012</td>\n",
       "    </tr>\n",
       "    <tr>\n",
       "      <th>13453</th>\n",
       "      <td>2012-02-01</td>\n",
       "      <td>england</td>\n",
       "      <td>174161</td>\n",
       "      <td>E92000001</td>\n",
       "      <td>43023.0</td>\n",
       "      <td>NaN</td>\n",
       "      <td>2012</td>\n",
       "    </tr>\n",
       "    <tr>\n",
       "      <th>...</th>\n",
       "      <td>...</td>\n",
       "      <td>...</td>\n",
       "      <td>...</td>\n",
       "      <td>...</td>\n",
       "      <td>...</td>\n",
       "      <td>...</td>\n",
       "      <td>...</td>\n",
       "    </tr>\n",
       "    <tr>\n",
       "      <th>13544</th>\n",
       "      <td>2019-09-01</td>\n",
       "      <td>england</td>\n",
       "      <td>249942</td>\n",
       "      <td>E92000001</td>\n",
       "      <td>64605.0</td>\n",
       "      <td>NaN</td>\n",
       "      <td>2019</td>\n",
       "    </tr>\n",
       "    <tr>\n",
       "      <th>13545</th>\n",
       "      <td>2019-10-01</td>\n",
       "      <td>england</td>\n",
       "      <td>249376</td>\n",
       "      <td>E92000001</td>\n",
       "      <td>68677.0</td>\n",
       "      <td>NaN</td>\n",
       "      <td>2019</td>\n",
       "    </tr>\n",
       "    <tr>\n",
       "      <th>13546</th>\n",
       "      <td>2019-11-01</td>\n",
       "      <td>england</td>\n",
       "      <td>248515</td>\n",
       "      <td>E92000001</td>\n",
       "      <td>67814.0</td>\n",
       "      <td>NaN</td>\n",
       "      <td>2019</td>\n",
       "    </tr>\n",
       "    <tr>\n",
       "      <th>13547</th>\n",
       "      <td>2019-12-01</td>\n",
       "      <td>england</td>\n",
       "      <td>250410</td>\n",
       "      <td>E92000001</td>\n",
       "      <td>NaN</td>\n",
       "      <td>NaN</td>\n",
       "      <td>2019</td>\n",
       "    </tr>\n",
       "    <tr>\n",
       "      <th>13548</th>\n",
       "      <td>2020-01-01</td>\n",
       "      <td>england</td>\n",
       "      <td>247355</td>\n",
       "      <td>E92000001</td>\n",
       "      <td>NaN</td>\n",
       "      <td>NaN</td>\n",
       "      <td>2020</td>\n",
       "    </tr>\n",
       "  </tbody>\n",
       "</table>\n",
       "<p>100 rows × 7 columns</p>\n",
       "</div>"
      ],
      "text/plain": [
       "            date     area  average_price       code  houses_sold  \\\n",
       "13449 2011-10-01  england         175171  E92000001      55412.0   \n",
       "13450 2011-11-01  england         175200  E92000001      57594.0   \n",
       "13451 2011-12-01  england         174812  E92000001      60991.0   \n",
       "13452 2012-01-01  england         174179  E92000001      42125.0   \n",
       "13453 2012-02-01  england         174161  E92000001      43023.0   \n",
       "...          ...      ...            ...        ...          ...   \n",
       "13544 2019-09-01  england         249942  E92000001      64605.0   \n",
       "13545 2019-10-01  england         249376  E92000001      68677.0   \n",
       "13546 2019-11-01  england         248515  E92000001      67814.0   \n",
       "13547 2019-12-01  england         250410  E92000001          NaN   \n",
       "13548 2020-01-01  england         247355  E92000001          NaN   \n",
       "\n",
       "       no_of_crimes  Year  \n",
       "13449           NaN  2011  \n",
       "13450           NaN  2011  \n",
       "13451           NaN  2011  \n",
       "13452           NaN  2012  \n",
       "13453           NaN  2012  \n",
       "...             ...   ...  \n",
       "13544           NaN  2019  \n",
       "13545           NaN  2019  \n",
       "13546           NaN  2019  \n",
       "13547           NaN  2019  \n",
       "13548           NaN  2020  \n",
       "\n",
       "[100 rows x 7 columns]"
      ]
     },
     "execution_count": 90,
     "metadata": {},
     "output_type": "execute_result"
    }
   ],
   "source": [
    "df.tail(100)"
   ]
  },
  {
   "cell_type": "markdown",
   "id": "dceb3633",
   "metadata": {},
   "source": [
    "### Agregamos una nueva columna 'Year' que contenga el año del hecho"
   ]
  },
  {
   "cell_type": "code",
   "execution_count": 27,
   "id": "20b4bf91",
   "metadata": {},
   "outputs": [],
   "source": [
    "df['Year']=df['date'].dt.year"
   ]
  },
  {
   "cell_type": "code",
   "execution_count": 28,
   "id": "08bb5c34",
   "metadata": {},
   "outputs": [
    {
     "data": {
      "text/html": [
       "<div>\n",
       "<style scoped>\n",
       "    .dataframe tbody tr th:only-of-type {\n",
       "        vertical-align: middle;\n",
       "    }\n",
       "\n",
       "    .dataframe tbody tr th {\n",
       "        vertical-align: top;\n",
       "    }\n",
       "\n",
       "    .dataframe thead th {\n",
       "        text-align: right;\n",
       "    }\n",
       "</style>\n",
       "<table border=\"1\" class=\"dataframe\">\n",
       "  <thead>\n",
       "    <tr style=\"text-align: right;\">\n",
       "      <th></th>\n",
       "      <th>date</th>\n",
       "      <th>area</th>\n",
       "      <th>average_price</th>\n",
       "      <th>code</th>\n",
       "      <th>houses_sold</th>\n",
       "      <th>no_of_crimes</th>\n",
       "      <th>Year</th>\n",
       "    </tr>\n",
       "  </thead>\n",
       "  <tbody>\n",
       "    <tr>\n",
       "      <th>0</th>\n",
       "      <td>1995-01-01</td>\n",
       "      <td>city of london</td>\n",
       "      <td>91449</td>\n",
       "      <td>E09000001</td>\n",
       "      <td>17.0</td>\n",
       "      <td>NaN</td>\n",
       "      <td>1995</td>\n",
       "    </tr>\n",
       "    <tr>\n",
       "      <th>1</th>\n",
       "      <td>1995-02-01</td>\n",
       "      <td>city of london</td>\n",
       "      <td>82203</td>\n",
       "      <td>E09000001</td>\n",
       "      <td>7.0</td>\n",
       "      <td>NaN</td>\n",
       "      <td>1995</td>\n",
       "    </tr>\n",
       "    <tr>\n",
       "      <th>2</th>\n",
       "      <td>1995-03-01</td>\n",
       "      <td>city of london</td>\n",
       "      <td>79121</td>\n",
       "      <td>E09000001</td>\n",
       "      <td>14.0</td>\n",
       "      <td>NaN</td>\n",
       "      <td>1995</td>\n",
       "    </tr>\n",
       "    <tr>\n",
       "      <th>3</th>\n",
       "      <td>1995-04-01</td>\n",
       "      <td>city of london</td>\n",
       "      <td>77101</td>\n",
       "      <td>E09000001</td>\n",
       "      <td>7.0</td>\n",
       "      <td>NaN</td>\n",
       "      <td>1995</td>\n",
       "    </tr>\n",
       "    <tr>\n",
       "      <th>4</th>\n",
       "      <td>1995-05-01</td>\n",
       "      <td>city of london</td>\n",
       "      <td>84409</td>\n",
       "      <td>E09000001</td>\n",
       "      <td>10.0</td>\n",
       "      <td>NaN</td>\n",
       "      <td>1995</td>\n",
       "    </tr>\n",
       "  </tbody>\n",
       "</table>\n",
       "</div>"
      ],
      "text/plain": [
       "        date            area  average_price       code  houses_sold  \\\n",
       "0 1995-01-01  city of london          91449  E09000001         17.0   \n",
       "1 1995-02-01  city of london          82203  E09000001          7.0   \n",
       "2 1995-03-01  city of london          79121  E09000001         14.0   \n",
       "3 1995-04-01  city of london          77101  E09000001          7.0   \n",
       "4 1995-05-01  city of london          84409  E09000001         10.0   \n",
       "\n",
       "   no_of_crimes  Year  \n",
       "0           NaN  1995  \n",
       "1           NaN  1995  \n",
       "2           NaN  1995  \n",
       "3           NaN  1995  \n",
       "4           NaN  1995  "
      ]
     },
     "execution_count": 28,
     "metadata": {},
     "output_type": "execute_result"
    }
   ],
   "source": [
    "df.head()"
   ]
  },
  {
   "cell_type": "markdown",
   "id": "72d91c56",
   "metadata": {},
   "source": [
    "### Agregamos una nueva columna 'Month' que contenga el mes del hecho, ubicada en 2° lugar de las columnas"
   ]
  },
  {
   "cell_type": "code",
   "execution_count": 31,
   "id": "90262dfb",
   "metadata": {},
   "outputs": [],
   "source": [
    "df['Month']=df['date'].dt.month"
   ]
  },
  {
   "cell_type": "code",
   "execution_count": 35,
   "id": "ad9c3fad",
   "metadata": {},
   "outputs": [],
   "source": [
    "df=df[['date','Month','area','average_price','code','houses_sold','no_of_crimes','Year']]"
   ]
  },
  {
   "cell_type": "code",
   "execution_count": 36,
   "id": "5698912d",
   "metadata": {},
   "outputs": [
    {
     "data": {
      "text/html": [
       "<div>\n",
       "<style scoped>\n",
       "    .dataframe tbody tr th:only-of-type {\n",
       "        vertical-align: middle;\n",
       "    }\n",
       "\n",
       "    .dataframe tbody tr th {\n",
       "        vertical-align: top;\n",
       "    }\n",
       "\n",
       "    .dataframe thead th {\n",
       "        text-align: right;\n",
       "    }\n",
       "</style>\n",
       "<table border=\"1\" class=\"dataframe\">\n",
       "  <thead>\n",
       "    <tr style=\"text-align: right;\">\n",
       "      <th></th>\n",
       "      <th>date</th>\n",
       "      <th>Month</th>\n",
       "      <th>area</th>\n",
       "      <th>average_price</th>\n",
       "      <th>code</th>\n",
       "      <th>houses_sold</th>\n",
       "      <th>no_of_crimes</th>\n",
       "      <th>Year</th>\n",
       "    </tr>\n",
       "  </thead>\n",
       "  <tbody>\n",
       "    <tr>\n",
       "      <th>0</th>\n",
       "      <td>1995-01-01</td>\n",
       "      <td>1</td>\n",
       "      <td>city of london</td>\n",
       "      <td>91449</td>\n",
       "      <td>E09000001</td>\n",
       "      <td>17.0</td>\n",
       "      <td>NaN</td>\n",
       "      <td>1995</td>\n",
       "    </tr>\n",
       "    <tr>\n",
       "      <th>1</th>\n",
       "      <td>1995-02-01</td>\n",
       "      <td>2</td>\n",
       "      <td>city of london</td>\n",
       "      <td>82203</td>\n",
       "      <td>E09000001</td>\n",
       "      <td>7.0</td>\n",
       "      <td>NaN</td>\n",
       "      <td>1995</td>\n",
       "    </tr>\n",
       "    <tr>\n",
       "      <th>2</th>\n",
       "      <td>1995-03-01</td>\n",
       "      <td>3</td>\n",
       "      <td>city of london</td>\n",
       "      <td>79121</td>\n",
       "      <td>E09000001</td>\n",
       "      <td>14.0</td>\n",
       "      <td>NaN</td>\n",
       "      <td>1995</td>\n",
       "    </tr>\n",
       "    <tr>\n",
       "      <th>3</th>\n",
       "      <td>1995-04-01</td>\n",
       "      <td>4</td>\n",
       "      <td>city of london</td>\n",
       "      <td>77101</td>\n",
       "      <td>E09000001</td>\n",
       "      <td>7.0</td>\n",
       "      <td>NaN</td>\n",
       "      <td>1995</td>\n",
       "    </tr>\n",
       "    <tr>\n",
       "      <th>4</th>\n",
       "      <td>1995-05-01</td>\n",
       "      <td>5</td>\n",
       "      <td>city of london</td>\n",
       "      <td>84409</td>\n",
       "      <td>E09000001</td>\n",
       "      <td>10.0</td>\n",
       "      <td>NaN</td>\n",
       "      <td>1995</td>\n",
       "    </tr>\n",
       "  </tbody>\n",
       "</table>\n",
       "</div>"
      ],
      "text/plain": [
       "        date  Month            area  average_price       code  houses_sold  \\\n",
       "0 1995-01-01      1  city of london          91449  E09000001         17.0   \n",
       "1 1995-02-01      2  city of london          82203  E09000001          7.0   \n",
       "2 1995-03-01      3  city of london          79121  E09000001         14.0   \n",
       "3 1995-04-01      4  city of london          77101  E09000001          7.0   \n",
       "4 1995-05-01      5  city of london          84409  E09000001         10.0   \n",
       "\n",
       "   no_of_crimes  Year  \n",
       "0           NaN  1995  \n",
       "1           NaN  1995  \n",
       "2           NaN  1995  \n",
       "3           NaN  1995  \n",
       "4           NaN  1995  "
      ]
     },
     "execution_count": 36,
     "metadata": {},
     "output_type": "execute_result"
    }
   ],
   "source": [
    "df.head()"
   ]
  },
  {
   "cell_type": "markdown",
   "id": "9735e6ea",
   "metadata": {},
   "source": [
    "Otra forma de hacerlo es con INSERT (pd) para agregar una columna a nuestro DF \n"
   ]
  },
  {
   "cell_type": "markdown",
   "id": "a009a157",
   "metadata": {},
   "source": [
    "df.insert(index,'New_column_name',new_columns_values)"
   ]
  },
  {
   "cell_type": "code",
   "execution_count": 38,
   "id": "c765493c",
   "metadata": {},
   "outputs": [],
   "source": [
    "#df.insert(1,'Month',df['date'].dt.month)"
   ]
  },
  {
   "cell_type": "markdown",
   "id": "8018365a",
   "metadata": {},
   "source": [
    "### Eliminamos las columnas recientemente creadas"
   ]
  },
  {
   "cell_type": "code",
   "execution_count": 43,
   "id": "6e01cc1c",
   "metadata": {},
   "outputs": [
    {
     "name": "stderr",
     "output_type": "stream",
     "text": [
      "C:\\Users\\fedev\\AppData\\Local\\Temp\\ipykernel_19732\\2442311267.py:1: SettingWithCopyWarning: \n",
      "A value is trying to be set on a copy of a slice from a DataFrame\n",
      "\n",
      "See the caveats in the documentation: https://pandas.pydata.org/pandas-docs/stable/user_guide/indexing.html#returning-a-view-versus-a-copy\n",
      "  df.drop(['Month','Year'],axis=1,inplace=True)\n"
     ]
    }
   ],
   "source": [
    "df.drop(['Month','Year'],axis=1,inplace=True)"
   ]
  },
  {
   "cell_type": "code",
   "execution_count": 44,
   "id": "18adfe08",
   "metadata": {},
   "outputs": [
    {
     "data": {
      "text/html": [
       "<div>\n",
       "<style scoped>\n",
       "    .dataframe tbody tr th:only-of-type {\n",
       "        vertical-align: middle;\n",
       "    }\n",
       "\n",
       "    .dataframe tbody tr th {\n",
       "        vertical-align: top;\n",
       "    }\n",
       "\n",
       "    .dataframe thead th {\n",
       "        text-align: right;\n",
       "    }\n",
       "</style>\n",
       "<table border=\"1\" class=\"dataframe\">\n",
       "  <thead>\n",
       "    <tr style=\"text-align: right;\">\n",
       "      <th></th>\n",
       "      <th>date</th>\n",
       "      <th>area</th>\n",
       "      <th>average_price</th>\n",
       "      <th>code</th>\n",
       "      <th>houses_sold</th>\n",
       "      <th>no_of_crimes</th>\n",
       "    </tr>\n",
       "  </thead>\n",
       "  <tbody>\n",
       "    <tr>\n",
       "      <th>0</th>\n",
       "      <td>1995-01-01</td>\n",
       "      <td>city of london</td>\n",
       "      <td>91449</td>\n",
       "      <td>E09000001</td>\n",
       "      <td>17.0</td>\n",
       "      <td>NaN</td>\n",
       "    </tr>\n",
       "    <tr>\n",
       "      <th>1</th>\n",
       "      <td>1995-02-01</td>\n",
       "      <td>city of london</td>\n",
       "      <td>82203</td>\n",
       "      <td>E09000001</td>\n",
       "      <td>7.0</td>\n",
       "      <td>NaN</td>\n",
       "    </tr>\n",
       "    <tr>\n",
       "      <th>2</th>\n",
       "      <td>1995-03-01</td>\n",
       "      <td>city of london</td>\n",
       "      <td>79121</td>\n",
       "      <td>E09000001</td>\n",
       "      <td>14.0</td>\n",
       "      <td>NaN</td>\n",
       "    </tr>\n",
       "    <tr>\n",
       "      <th>3</th>\n",
       "      <td>1995-04-01</td>\n",
       "      <td>city of london</td>\n",
       "      <td>77101</td>\n",
       "      <td>E09000001</td>\n",
       "      <td>7.0</td>\n",
       "      <td>NaN</td>\n",
       "    </tr>\n",
       "    <tr>\n",
       "      <th>4</th>\n",
       "      <td>1995-05-01</td>\n",
       "      <td>city of london</td>\n",
       "      <td>84409</td>\n",
       "      <td>E09000001</td>\n",
       "      <td>10.0</td>\n",
       "      <td>NaN</td>\n",
       "    </tr>\n",
       "  </tbody>\n",
       "</table>\n",
       "</div>"
      ],
      "text/plain": [
       "        date            area  average_price       code  houses_sold  \\\n",
       "0 1995-01-01  city of london          91449  E09000001         17.0   \n",
       "1 1995-02-01  city of london          82203  E09000001          7.0   \n",
       "2 1995-03-01  city of london          79121  E09000001         14.0   \n",
       "3 1995-04-01  city of london          77101  E09000001          7.0   \n",
       "4 1995-05-01  city of london          84409  E09000001         10.0   \n",
       "\n",
       "   no_of_crimes  \n",
       "0           NaN  \n",
       "1           NaN  \n",
       "2           NaN  \n",
       "3           NaN  \n",
       "4           NaN  "
      ]
     },
     "execution_count": 44,
     "metadata": {},
     "output_type": "execute_result"
    }
   ],
   "source": [
    "df.head()"
   ]
  },
  {
   "cell_type": "markdown",
   "id": "34645ca9",
   "metadata": {},
   "source": [
    "#### Mostrar todos los registros donde el N° de criemenes es 0 y especificar cuantos son"
   ]
  },
  {
   "cell_type": "code",
   "execution_count": 47,
   "id": "12b03f26",
   "metadata": {},
   "outputs": [
    {
     "data": {
      "text/html": [
       "<div>\n",
       "<style scoped>\n",
       "    .dataframe tbody tr th:only-of-type {\n",
       "        vertical-align: middle;\n",
       "    }\n",
       "\n",
       "    .dataframe tbody tr th {\n",
       "        vertical-align: top;\n",
       "    }\n",
       "\n",
       "    .dataframe thead th {\n",
       "        text-align: right;\n",
       "    }\n",
       "</style>\n",
       "<table border=\"1\" class=\"dataframe\">\n",
       "  <thead>\n",
       "    <tr style=\"text-align: right;\">\n",
       "      <th></th>\n",
       "      <th>date</th>\n",
       "      <th>area</th>\n",
       "      <th>average_price</th>\n",
       "      <th>code</th>\n",
       "      <th>houses_sold</th>\n",
       "      <th>no_of_crimes</th>\n",
       "    </tr>\n",
       "  </thead>\n",
       "  <tbody>\n",
       "    <tr>\n",
       "      <th>72</th>\n",
       "      <td>2001-01-01</td>\n",
       "      <td>city of london</td>\n",
       "      <td>284262</td>\n",
       "      <td>E09000001</td>\n",
       "      <td>24.0</td>\n",
       "      <td>0.0</td>\n",
       "    </tr>\n",
       "    <tr>\n",
       "      <th>73</th>\n",
       "      <td>2001-02-01</td>\n",
       "      <td>city of london</td>\n",
       "      <td>198137</td>\n",
       "      <td>E09000001</td>\n",
       "      <td>37.0</td>\n",
       "      <td>0.0</td>\n",
       "    </tr>\n",
       "    <tr>\n",
       "      <th>74</th>\n",
       "      <td>2001-03-01</td>\n",
       "      <td>city of london</td>\n",
       "      <td>189033</td>\n",
       "      <td>E09000001</td>\n",
       "      <td>44.0</td>\n",
       "      <td>0.0</td>\n",
       "    </tr>\n",
       "    <tr>\n",
       "      <th>75</th>\n",
       "      <td>2001-04-01</td>\n",
       "      <td>city of london</td>\n",
       "      <td>205494</td>\n",
       "      <td>E09000001</td>\n",
       "      <td>38.0</td>\n",
       "      <td>0.0</td>\n",
       "    </tr>\n",
       "    <tr>\n",
       "      <th>76</th>\n",
       "      <td>2001-05-01</td>\n",
       "      <td>city of london</td>\n",
       "      <td>223459</td>\n",
       "      <td>E09000001</td>\n",
       "      <td>30.0</td>\n",
       "      <td>0.0</td>\n",
       "    </tr>\n",
       "    <tr>\n",
       "      <th>...</th>\n",
       "      <td>...</td>\n",
       "      <td>...</td>\n",
       "      <td>...</td>\n",
       "      <td>...</td>\n",
       "      <td>...</td>\n",
       "      <td>...</td>\n",
       "    </tr>\n",
       "    <tr>\n",
       "      <th>178</th>\n",
       "      <td>2009-11-01</td>\n",
       "      <td>city of london</td>\n",
       "      <td>397909</td>\n",
       "      <td>E09000001</td>\n",
       "      <td>11.0</td>\n",
       "      <td>0.0</td>\n",
       "    </tr>\n",
       "    <tr>\n",
       "      <th>179</th>\n",
       "      <td>2009-12-01</td>\n",
       "      <td>city of london</td>\n",
       "      <td>411955</td>\n",
       "      <td>E09000001</td>\n",
       "      <td>16.0</td>\n",
       "      <td>0.0</td>\n",
       "    </tr>\n",
       "    <tr>\n",
       "      <th>180</th>\n",
       "      <td>2010-01-01</td>\n",
       "      <td>city of london</td>\n",
       "      <td>464436</td>\n",
       "      <td>E09000001</td>\n",
       "      <td>20.0</td>\n",
       "      <td>0.0</td>\n",
       "    </tr>\n",
       "    <tr>\n",
       "      <th>181</th>\n",
       "      <td>2010-02-01</td>\n",
       "      <td>city of london</td>\n",
       "      <td>490525</td>\n",
       "      <td>E09000001</td>\n",
       "      <td>9.0</td>\n",
       "      <td>0.0</td>\n",
       "    </tr>\n",
       "    <tr>\n",
       "      <th>182</th>\n",
       "      <td>2010-03-01</td>\n",
       "      <td>city of london</td>\n",
       "      <td>498241</td>\n",
       "      <td>E09000001</td>\n",
       "      <td>15.0</td>\n",
       "      <td>0.0</td>\n",
       "    </tr>\n",
       "  </tbody>\n",
       "</table>\n",
       "<p>104 rows × 6 columns</p>\n",
       "</div>"
      ],
      "text/plain": [
       "          date            area  average_price       code  houses_sold  \\\n",
       "72  2001-01-01  city of london         284262  E09000001         24.0   \n",
       "73  2001-02-01  city of london         198137  E09000001         37.0   \n",
       "74  2001-03-01  city of london         189033  E09000001         44.0   \n",
       "75  2001-04-01  city of london         205494  E09000001         38.0   \n",
       "76  2001-05-01  city of london         223459  E09000001         30.0   \n",
       "..         ...             ...            ...        ...          ...   \n",
       "178 2009-11-01  city of london         397909  E09000001         11.0   \n",
       "179 2009-12-01  city of london         411955  E09000001         16.0   \n",
       "180 2010-01-01  city of london         464436  E09000001         20.0   \n",
       "181 2010-02-01  city of london         490525  E09000001          9.0   \n",
       "182 2010-03-01  city of london         498241  E09000001         15.0   \n",
       "\n",
       "     no_of_crimes  \n",
       "72            0.0  \n",
       "73            0.0  \n",
       "74            0.0  \n",
       "75            0.0  \n",
       "76            0.0  \n",
       "..            ...  \n",
       "178           0.0  \n",
       "179           0.0  \n",
       "180           0.0  \n",
       "181           0.0  \n",
       "182           0.0  \n",
       "\n",
       "[104 rows x 6 columns]"
      ]
     },
     "execution_count": 47,
     "metadata": {},
     "output_type": "execute_result"
    }
   ],
   "source": [
    "df[df['no_of_crimes']==0]"
   ]
  },
  {
   "cell_type": "code",
   "execution_count": 48,
   "id": "e8298c65",
   "metadata": {},
   "outputs": [
    {
     "data": {
      "text/plain": [
       "date             104\n",
       "area             104\n",
       "average_price    104\n",
       "code             104\n",
       "houses_sold      104\n",
       "no_of_crimes     104\n",
       "dtype: int64"
      ]
     },
     "execution_count": 48,
     "metadata": {},
     "output_type": "execute_result"
    }
   ],
   "source": [
    "df[df['no_of_crimes']==0].count()"
   ]
  },
  {
   "cell_type": "code",
   "execution_count": 49,
   "id": "fb86f791",
   "metadata": {},
   "outputs": [
    {
     "data": {
      "text/plain": [
       "104"
      ]
     },
     "execution_count": 49,
     "metadata": {},
     "output_type": "execute_result"
    }
   ],
   "source": [
    "len(df[df['no_of_crimes']==0])"
   ]
  },
  {
   "cell_type": "markdown",
   "id": "fda5e49c",
   "metadata": {},
   "source": [
    "### Cual es el maximo y minimo 'average_price' por cada año"
   ]
  },
  {
   "cell_type": "code",
   "execution_count": 51,
   "id": "31622436",
   "metadata": {},
   "outputs": [
    {
     "name": "stderr",
     "output_type": "stream",
     "text": [
      "C:\\Users\\fedev\\AppData\\Local\\Temp\\ipykernel_19732\\100915091.py:1: SettingWithCopyWarning: \n",
      "A value is trying to be set on a copy of a slice from a DataFrame.\n",
      "Try using .loc[row_indexer,col_indexer] = value instead\n",
      "\n",
      "See the caveats in the documentation: https://pandas.pydata.org/pandas-docs/stable/user_guide/indexing.html#returning-a-view-versus-a-copy\n",
      "  df['Year']=df['date'].dt.year\n"
     ]
    }
   ],
   "source": [
    "df['Year']=df['date'].dt.year"
   ]
  },
  {
   "cell_type": "code",
   "execution_count": 52,
   "id": "fdceef4c",
   "metadata": {},
   "outputs": [
    {
     "data": {
      "text/html": [
       "<div>\n",
       "<style scoped>\n",
       "    .dataframe tbody tr th:only-of-type {\n",
       "        vertical-align: middle;\n",
       "    }\n",
       "\n",
       "    .dataframe tbody tr th {\n",
       "        vertical-align: top;\n",
       "    }\n",
       "\n",
       "    .dataframe thead th {\n",
       "        text-align: right;\n",
       "    }\n",
       "</style>\n",
       "<table border=\"1\" class=\"dataframe\">\n",
       "  <thead>\n",
       "    <tr style=\"text-align: right;\">\n",
       "      <th></th>\n",
       "      <th>date</th>\n",
       "      <th>area</th>\n",
       "      <th>average_price</th>\n",
       "      <th>code</th>\n",
       "      <th>houses_sold</th>\n",
       "      <th>no_of_crimes</th>\n",
       "      <th>Year</th>\n",
       "    </tr>\n",
       "  </thead>\n",
       "  <tbody>\n",
       "    <tr>\n",
       "      <th>0</th>\n",
       "      <td>1995-01-01</td>\n",
       "      <td>city of london</td>\n",
       "      <td>91449</td>\n",
       "      <td>E09000001</td>\n",
       "      <td>17.0</td>\n",
       "      <td>NaN</td>\n",
       "      <td>1995</td>\n",
       "    </tr>\n",
       "    <tr>\n",
       "      <th>1</th>\n",
       "      <td>1995-02-01</td>\n",
       "      <td>city of london</td>\n",
       "      <td>82203</td>\n",
       "      <td>E09000001</td>\n",
       "      <td>7.0</td>\n",
       "      <td>NaN</td>\n",
       "      <td>1995</td>\n",
       "    </tr>\n",
       "    <tr>\n",
       "      <th>2</th>\n",
       "      <td>1995-03-01</td>\n",
       "      <td>city of london</td>\n",
       "      <td>79121</td>\n",
       "      <td>E09000001</td>\n",
       "      <td>14.0</td>\n",
       "      <td>NaN</td>\n",
       "      <td>1995</td>\n",
       "    </tr>\n",
       "    <tr>\n",
       "      <th>3</th>\n",
       "      <td>1995-04-01</td>\n",
       "      <td>city of london</td>\n",
       "      <td>77101</td>\n",
       "      <td>E09000001</td>\n",
       "      <td>7.0</td>\n",
       "      <td>NaN</td>\n",
       "      <td>1995</td>\n",
       "    </tr>\n",
       "    <tr>\n",
       "      <th>4</th>\n",
       "      <td>1995-05-01</td>\n",
       "      <td>city of london</td>\n",
       "      <td>84409</td>\n",
       "      <td>E09000001</td>\n",
       "      <td>10.0</td>\n",
       "      <td>NaN</td>\n",
       "      <td>1995</td>\n",
       "    </tr>\n",
       "    <tr>\n",
       "      <th>...</th>\n",
       "      <td>...</td>\n",
       "      <td>...</td>\n",
       "      <td>...</td>\n",
       "      <td>...</td>\n",
       "      <td>...</td>\n",
       "      <td>...</td>\n",
       "      <td>...</td>\n",
       "    </tr>\n",
       "    <tr>\n",
       "      <th>13544</th>\n",
       "      <td>2019-09-01</td>\n",
       "      <td>england</td>\n",
       "      <td>249942</td>\n",
       "      <td>E92000001</td>\n",
       "      <td>64605.0</td>\n",
       "      <td>NaN</td>\n",
       "      <td>2019</td>\n",
       "    </tr>\n",
       "    <tr>\n",
       "      <th>13545</th>\n",
       "      <td>2019-10-01</td>\n",
       "      <td>england</td>\n",
       "      <td>249376</td>\n",
       "      <td>E92000001</td>\n",
       "      <td>68677.0</td>\n",
       "      <td>NaN</td>\n",
       "      <td>2019</td>\n",
       "    </tr>\n",
       "    <tr>\n",
       "      <th>13546</th>\n",
       "      <td>2019-11-01</td>\n",
       "      <td>england</td>\n",
       "      <td>248515</td>\n",
       "      <td>E92000001</td>\n",
       "      <td>67814.0</td>\n",
       "      <td>NaN</td>\n",
       "      <td>2019</td>\n",
       "    </tr>\n",
       "    <tr>\n",
       "      <th>13547</th>\n",
       "      <td>2019-12-01</td>\n",
       "      <td>england</td>\n",
       "      <td>250410</td>\n",
       "      <td>E92000001</td>\n",
       "      <td>NaN</td>\n",
       "      <td>NaN</td>\n",
       "      <td>2019</td>\n",
       "    </tr>\n",
       "    <tr>\n",
       "      <th>13548</th>\n",
       "      <td>2020-01-01</td>\n",
       "      <td>england</td>\n",
       "      <td>247355</td>\n",
       "      <td>E92000001</td>\n",
       "      <td>NaN</td>\n",
       "      <td>NaN</td>\n",
       "      <td>2020</td>\n",
       "    </tr>\n",
       "  </tbody>\n",
       "</table>\n",
       "<p>13549 rows × 7 columns</p>\n",
       "</div>"
      ],
      "text/plain": [
       "            date            area  average_price       code  houses_sold  \\\n",
       "0     1995-01-01  city of london          91449  E09000001         17.0   \n",
       "1     1995-02-01  city of london          82203  E09000001          7.0   \n",
       "2     1995-03-01  city of london          79121  E09000001         14.0   \n",
       "3     1995-04-01  city of london          77101  E09000001          7.0   \n",
       "4     1995-05-01  city of london          84409  E09000001         10.0   \n",
       "...          ...             ...            ...        ...          ...   \n",
       "13544 2019-09-01         england         249942  E92000001      64605.0   \n",
       "13545 2019-10-01         england         249376  E92000001      68677.0   \n",
       "13546 2019-11-01         england         248515  E92000001      67814.0   \n",
       "13547 2019-12-01         england         250410  E92000001          NaN   \n",
       "13548 2020-01-01         england         247355  E92000001          NaN   \n",
       "\n",
       "       no_of_crimes  Year  \n",
       "0               NaN  1995  \n",
       "1               NaN  1995  \n",
       "2               NaN  1995  \n",
       "3               NaN  1995  \n",
       "4               NaN  1995  \n",
       "...             ...   ...  \n",
       "13544           NaN  2019  \n",
       "13545           NaN  2019  \n",
       "13546           NaN  2019  \n",
       "13547           NaN  2019  \n",
       "13548           NaN  2020  \n",
       "\n",
       "[13549 rows x 7 columns]"
      ]
     },
     "execution_count": 52,
     "metadata": {},
     "output_type": "execute_result"
    }
   ],
   "source": [
    "df"
   ]
  },
  {
   "cell_type": "code",
   "execution_count": 71,
   "id": "f6e9621c",
   "metadata": {},
   "outputs": [],
   "source": [
    "max=df[df['area']=='england'].groupby('Year').average_price.max()\n",
    "min=df[df['area']=='england'].groupby('Year').average_price.min()\n"
   ]
  },
  {
   "cell_type": "code",
   "execution_count": 80,
   "id": "70adacd8",
   "metadata": {},
   "outputs": [],
   "source": [
    "dfa=pd.DataFrame([max,min])"
   ]
  },
  {
   "cell_type": "code",
   "execution_count": 81,
   "id": "b8624354",
   "metadata": {},
   "outputs": [
    {
     "data": {
      "text/html": [
       "<div>\n",
       "<style scoped>\n",
       "    .dataframe tbody tr th:only-of-type {\n",
       "        vertical-align: middle;\n",
       "    }\n",
       "\n",
       "    .dataframe tbody tr th {\n",
       "        vertical-align: top;\n",
       "    }\n",
       "\n",
       "    .dataframe thead th {\n",
       "        text-align: right;\n",
       "    }\n",
       "</style>\n",
       "<table border=\"1\" class=\"dataframe\">\n",
       "  <thead>\n",
       "    <tr style=\"text-align: right;\">\n",
       "      <th>Year</th>\n",
       "      <th>1995</th>\n",
       "      <th>1996</th>\n",
       "      <th>1997</th>\n",
       "      <th>1998</th>\n",
       "      <th>1999</th>\n",
       "      <th>2000</th>\n",
       "      <th>2001</th>\n",
       "      <th>2002</th>\n",
       "      <th>2003</th>\n",
       "      <th>2004</th>\n",
       "      <th>...</th>\n",
       "      <th>2011</th>\n",
       "      <th>2012</th>\n",
       "      <th>2013</th>\n",
       "      <th>2014</th>\n",
       "      <th>2015</th>\n",
       "      <th>2016</th>\n",
       "      <th>2017</th>\n",
       "      <th>2018</th>\n",
       "      <th>2019</th>\n",
       "      <th>2020</th>\n",
       "    </tr>\n",
       "  </thead>\n",
       "  <tbody>\n",
       "    <tr>\n",
       "      <th>average_price</th>\n",
       "      <td>53901</td>\n",
       "      <td>55755</td>\n",
       "      <td>61564</td>\n",
       "      <td>65743</td>\n",
       "      <td>75071</td>\n",
       "      <td>84191</td>\n",
       "      <td>95992</td>\n",
       "      <td>119982</td>\n",
       "      <td>138985</td>\n",
       "      <td>160330</td>\n",
       "      <td>...</td>\n",
       "      <td>177335</td>\n",
       "      <td>180129</td>\n",
       "      <td>188544</td>\n",
       "      <td>203639</td>\n",
       "      <td>219582</td>\n",
       "      <td>231922</td>\n",
       "      <td>242628</td>\n",
       "      <td>248620</td>\n",
       "      <td>250410</td>\n",
       "      <td>247355</td>\n",
       "    </tr>\n",
       "    <tr>\n",
       "      <th>average_price</th>\n",
       "      <td>52788</td>\n",
       "      <td>52333</td>\n",
       "      <td>55789</td>\n",
       "      <td>61659</td>\n",
       "      <td>65522</td>\n",
       "      <td>75219</td>\n",
       "      <td>84245</td>\n",
       "      <td>96215</td>\n",
       "      <td>121610</td>\n",
       "      <td>139719</td>\n",
       "      <td>...</td>\n",
       "      <td>173046</td>\n",
       "      <td>174161</td>\n",
       "      <td>176816</td>\n",
       "      <td>188265</td>\n",
       "      <td>202856</td>\n",
       "      <td>220361</td>\n",
       "      <td>231593</td>\n",
       "      <td>240428</td>\n",
       "      <td>243281</td>\n",
       "      <td>247355</td>\n",
       "    </tr>\n",
       "  </tbody>\n",
       "</table>\n",
       "<p>2 rows × 26 columns</p>\n",
       "</div>"
      ],
      "text/plain": [
       "Year            1995   1996   1997   1998   1999   2000   2001    2002  \\\n",
       "average_price  53901  55755  61564  65743  75071  84191  95992  119982   \n",
       "average_price  52788  52333  55789  61659  65522  75219  84245   96215   \n",
       "\n",
       "Year             2003    2004  ...    2011    2012    2013    2014    2015  \\\n",
       "average_price  138985  160330  ...  177335  180129  188544  203639  219582   \n",
       "average_price  121610  139719  ...  173046  174161  176816  188265  202856   \n",
       "\n",
       "Year             2016    2017    2018    2019    2020  \n",
       "average_price  231922  242628  248620  250410  247355  \n",
       "average_price  220361  231593  240428  243281  247355  \n",
       "\n",
       "[2 rows x 26 columns]"
      ]
     },
     "execution_count": 81,
     "metadata": {},
     "output_type": "execute_result"
    }
   ],
   "source": [
    "dfa"
   ]
  },
  {
   "cell_type": "markdown",
   "id": "fe39adf0",
   "metadata": {},
   "source": [
    "### Cual es el maximo y minimo de N°deCrimenes registrados por area"
   ]
  },
  {
   "cell_type": "code",
   "execution_count": 86,
   "id": "5dd3257e",
   "metadata": {
    "scrolled": true
   },
   "outputs": [
    {
     "data": {
      "text/plain": [
       "area\n",
       "westminster               3504.0\n",
       "lambeth                   2381.0\n",
       "southwark                 2267.0\n",
       "newham                    2130.0\n",
       "camden                    2079.0\n",
       "croydon                   2031.0\n",
       "islington                 1871.0\n",
       "ealing                    1871.0\n",
       "hackney                   1870.0\n",
       "brent                     1850.0\n",
       "barnet                    1703.0\n",
       "lewisham                  1675.0\n",
       "tower hamlets             1646.0\n",
       "enfield                   1635.0\n",
       "wandsworth                1582.0\n",
       "waltham forest            1575.0\n",
       "haringey                  1536.0\n",
       "hounslow                  1529.0\n",
       "greenwich                 1513.0\n",
       "redbridge                 1487.0\n",
       "hillingdon                1445.0\n",
       "bromley                   1441.0\n",
       "kensington and chelsea    1347.0\n",
       "hammersmith and fulham    1323.0\n",
       "barking and dagenham      1217.0\n",
       "havering                  1130.0\n",
       "harrow                     937.0\n",
       "bexley                     860.0\n",
       "merton                     819.0\n",
       "sutton                     787.0\n",
       "richmond upon thames       700.0\n",
       "kingston upon thames       692.0\n",
       "city of london               0.0\n",
       "east midlands                NaN\n",
       "east of england              NaN\n",
       "england                      NaN\n",
       "inner london                 NaN\n",
       "london                       NaN\n",
       "north east                   NaN\n",
       "north west                   NaN\n",
       "outer london                 NaN\n",
       "south east                   NaN\n",
       "south west                   NaN\n",
       "west midlands                NaN\n",
       "yorks and the humber         NaN\n",
       "Name: no_of_crimes, dtype: float64"
      ]
     },
     "execution_count": 86,
     "metadata": {},
     "output_type": "execute_result"
    }
   ],
   "source": [
    "df.groupby('area').no_of_crimes.min().sort_values(ascending=False)"
   ]
  },
  {
   "cell_type": "code",
   "execution_count": 87,
   "id": "844694b5",
   "metadata": {
    "scrolled": true
   },
   "outputs": [
    {
     "data": {
      "text/plain": [
       "area\n",
       "westminster               7461.0\n",
       "lambeth                   4701.0\n",
       "camden                    4558.0\n",
       "southwark                 3821.0\n",
       "newham                    3668.0\n",
       "hackney                   3466.0\n",
       "ealing                    3401.0\n",
       "islington                 3384.0\n",
       "tower hamlets             3316.0\n",
       "croydon                   3263.0\n",
       "haringey                  3199.0\n",
       "wandsworth                3051.0\n",
       "waltham forest            2941.0\n",
       "brent                     2937.0\n",
       "barnet                    2893.0\n",
       "greenwich                 2853.0\n",
       "hillingdon                2819.0\n",
       "hounslow                  2817.0\n",
       "lewisham                  2813.0\n",
       "enfield                   2798.0\n",
       "kensington and chelsea    2778.0\n",
       "hammersmith and fulham    2645.0\n",
       "bromley                   2637.0\n",
       "redbridge                 2560.0\n",
       "barking and dagenham      2049.0\n",
       "havering                  1956.0\n",
       "bexley                    1914.0\n",
       "harrow                    1763.0\n",
       "merton                    1623.0\n",
       "richmond upon thames      1551.0\n",
       "sutton                    1425.0\n",
       "kingston upon thames      1379.0\n",
       "city of london              10.0\n",
       "east midlands                NaN\n",
       "east of england              NaN\n",
       "england                      NaN\n",
       "inner london                 NaN\n",
       "london                       NaN\n",
       "north east                   NaN\n",
       "north west                   NaN\n",
       "outer london                 NaN\n",
       "south east                   NaN\n",
       "south west                   NaN\n",
       "west midlands                NaN\n",
       "yorks and the humber         NaN\n",
       "Name: no_of_crimes, dtype: float64"
      ]
     },
     "execution_count": 87,
     "metadata": {},
     "output_type": "execute_result"
    }
   ],
   "source": [
    "df.groupby('area').no_of_crimes.max().sort_values(ascending=False)"
   ]
  },
  {
   "cell_type": "markdown",
   "id": "9d422660",
   "metadata": {},
   "source": [
    "### Mostrar el total de registros por cada area donde el precio promedio es menos de 100000"
   ]
  },
  {
   "cell_type": "code",
   "execution_count": 93,
   "id": "8c198217",
   "metadata": {},
   "outputs": [],
   "source": [
    "dfa=df[df['average_price']<100000]"
   ]
  },
  {
   "cell_type": "code",
   "execution_count": 99,
   "id": "a124a66d",
   "metadata": {},
   "outputs": [
    {
     "data": {
      "text/plain": [
       "area\n",
       "north east              112\n",
       "north west              111\n",
       "yorks and the humber    110\n",
       "east midlands            96\n",
       "west midlands            94\n",
       "england                  87\n",
       "barking and dagenham     85\n",
       "south west               78\n",
       "east of england          76\n",
       "newham                   72\n",
       "waltham forest           64\n",
       "bexley                   64\n",
       "lewisham                 62\n",
       "havering                 60\n",
       "south east               59\n",
       "greenwich                59\n",
       "croydon                  57\n",
       "enfield                  54\n",
       "sutton                   54\n",
       "hackney                  53\n",
       "redbridge                52\n",
       "southwark                48\n",
       "tower hamlets            47\n",
       "outer london             46\n",
       "hillingdon               44\n",
       "lambeth                  41\n",
       "hounslow                 41\n",
       "brent                    40\n",
       "london                   39\n",
       "merton                   35\n",
       "bromley                  33\n",
       "haringey                 33\n",
       "ealing                   31\n",
       "inner london             31\n",
       "kingston upon thames     30\n",
       "harrow                   30\n",
       "wandsworth               26\n",
       "barnet                   25\n",
       "islington                19\n",
       "city of london           11\n",
       "Name: area, dtype: int64"
      ]
     },
     "execution_count": 99,
     "metadata": {},
     "output_type": "execute_result"
    }
   ],
   "source": [
    "dfa.groupby('area').area.count().sort_values(ascending=False)"
   ]
  },
  {
   "cell_type": "code",
   "execution_count": null,
   "id": "b11557a6",
   "metadata": {},
   "outputs": [],
   "source": []
  }
 ],
 "metadata": {
  "kernelspec": {
   "display_name": "Python 3 (ipykernel)",
   "language": "python",
   "name": "python3"
  },
  "language_info": {
   "codemirror_mode": {
    "name": "ipython",
    "version": 3
   },
   "file_extension": ".py",
   "mimetype": "text/x-python",
   "name": "python",
   "nbconvert_exporter": "python",
   "pygments_lexer": "ipython3",
   "version": "3.10.9"
  }
 },
 "nbformat": 4,
 "nbformat_minor": 5
}
